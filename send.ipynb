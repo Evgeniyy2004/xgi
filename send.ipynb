{
 "cells": [
  {
   "cell_type": "code",
   "execution_count": 1,
   "id": "72b28d07",
   "metadata": {},
   "outputs": [],
   "source": [
    "import pandas as pd\n",
    "import xgi\n",
    "from tqdm import tqdm\n",
    "import matplotlib.pyplot as plt"
   ]
  },
  {
   "cell_type": "markdown",
   "id": "43632b08",
   "metadata": {},
   "source": [
    "### Считывание с таблицы"
   ]
  },
  {
   "cell_type": "code",
   "execution_count": 2,
   "id": "e784560e",
   "metadata": {},
   "outputs": [],
   "source": [
    "authors2papers = pd.read_csv('edge.csv', names=['author', 'paper'])"
   ]
  },
  {
   "cell_type": "code",
   "execution_count": 3,
   "id": "44e033c1",
   "metadata": {},
   "outputs": [],
   "source": [
    "authors2papers = authors2papers[authors2papers['paper']!= 0]"
   ]
  },
  {
   "cell_type": "code",
   "execution_count": 4,
   "id": "75086cf0",
   "metadata": {},
   "outputs": [],
   "source": [
    "papers_ids = pd.unique(authors2papers['paper'])"
   ]
  },
  {
   "cell_type": "code",
   "execution_count": 5,
   "id": "44df5bad",
   "metadata": {},
   "outputs": [],
   "source": [
    "grouped_authors = authors2papers.groupby('paper')['author'].apply(list).to_list()"
   ]
  },
  {
   "cell_type": "code",
   "execution_count": 17,
   "id": "d0353257",
   "metadata": {},
   "outputs": [],
   "source": [
    "H = xgi.Hypergraph(grouped_authors)"
   ]
  },
  {
   "cell_type": "code",
   "execution_count": 8,
   "id": "be6b4ed9",
   "metadata": {},
   "outputs": [
    {
     "ename": "NameError",
     "evalue": "name 'H' is not defined",
     "output_type": "error",
     "traceback": [
      "\u001b[1;31m---------------------------------------------------------------------------\u001b[0m",
      "\u001b[1;31mNameError\u001b[0m                                 Traceback (most recent call last)",
      "Cell \u001b[1;32mIn[8], line 1\u001b[0m\n\u001b[1;32m----> 1\u001b[0m H_filtered \u001b[38;5;241m=\u001b[39m \u001b[43mH\u001b[49m\u001b[38;5;241m.\u001b[39mcleanup(\n\u001b[0;32m      2\u001b[0m     multiedges\u001b[38;5;241m=\u001b[39m\u001b[38;5;28;01mFalse\u001b[39;00m, singletons\u001b[38;5;241m=\u001b[39m\u001b[38;5;28;01mFalse\u001b[39;00m, isolates\u001b[38;5;241m=\u001b[39m\u001b[38;5;28;01mFalse\u001b[39;00m, relabel\u001b[38;5;241m=\u001b[39m\u001b[38;5;28;01mTrue\u001b[39;00m, in_place\u001b[38;5;241m=\u001b[39m\u001b[38;5;28;01mFalse\u001b[39;00m, connected\u001b[38;5;241m=\u001b[39m\u001b[38;5;28;01mTrue\u001b[39;00m\n\u001b[0;32m      3\u001b[0m )\n",
      "\u001b[1;31mNameError\u001b[0m: name 'H' is not defined"
     ]
    }
   ],
   "source": [
    "H_filtered = H.cleanup(\n",
    "    multiedges=False, singletons=False, isolates=False, relabel=True, in_place=False, connected=True\n",
    ")"
   ]
  },
  {
   "cell_type": "markdown",
   "id": "b072a3bb",
   "metadata": {},
   "source": [
    "### Считывание с огурчика"
   ]
  },
  {
   "cell_type": "code",
   "execution_count": 12,
   "id": "824722b9",
   "metadata": {},
   "outputs": [
    {
     "name": "stdout",
     "output_type": "stream",
     "text": [
      "Unnamed Hypergraph with 1029544 nodes and 730921 hyperedges\n",
      "Unnamed Hypergraph with 970002 nodes and 555211 hyperedges\n"
     ]
    }
   ],
   "source": [
    "import pickle\n",
    "\n",
    "H_filtered = pickle.load(open(\"hypergraph_filtered.pkl\", \"rb\"))\n",
    "H_filtered_prev = pickle.load(open(\"H_filtered.pickle\", \"rb\"))\n",
    "print(H_filtered)\n",
    "print(H_filtered_prev)"
   ]
  },
  {
   "cell_type": "code",
   "execution_count": 14,
   "id": "4081b2bf",
   "metadata": {},
   "outputs": [
    {
     "name": "stdout",
     "output_type": "stream",
     "text": [
      "Unnamed Hypergraph with 863441 nodes and 549331 hyperedges\n"
     ]
    }
   ],
   "source": [
    "print(H_filtered)"
   ]
  },
  {
   "cell_type": "markdown",
   "id": "763fee67",
   "metadata": {},
   "source": [
    "### Всякое остальное важное нужное"
   ]
  },
  {
   "cell_type": "code",
   "execution_count": 16,
   "id": "1c5c73dd",
   "metadata": {},
   "outputs": [
    {
     "name": "stdout",
     "output_type": "stream",
     "text": [
      "Parsing to line_graph...\n"
     ]
    },
    {
     "name": "stderr",
     "output_type": "stream",
     "text": [
      "  2%|▏         | 3320725520/150881999115 [28:57<21:26:58, 1910957.62it/s]\n"
     ]
    },
    {
     "ename": "KeyboardInterrupt",
     "evalue": "",
     "output_type": "error",
     "traceback": [
      "\u001b[1;31m---------------------------------------------------------------------------\u001b[0m",
      "\u001b[1;31mKeyboardInterrupt\u001b[0m                         Traceback (most recent call last)",
      "Cell \u001b[1;32mIn[16], line 1\u001b[0m\n\u001b[1;32m----> 1\u001b[0m centralities \u001b[38;5;241m=\u001b[39m \u001b[43mxgi\u001b[49m\u001b[38;5;241;43m.\u001b[39;49m\u001b[43mcentrality\u001b[49m\u001b[38;5;241;43m.\u001b[39;49m\u001b[43mfast_line_vector_centrality\u001b[49m\u001b[43m(\u001b[49m\u001b[43mH_filtered\u001b[49m\u001b[43m)\u001b[49m\n",
      "File \u001b[1;32md:\\Projects\\StudCamp v2\\Repos\\xgi\\xgi\\algorithms\\centrality.py:189\u001b[0m, in \u001b[0;36mfast_line_vector_centrality\u001b[1;34m(H)\u001b[0m\n\u001b[0;32m    184\u001b[0m \u001b[38;5;66;03m# print(\"Checking connections...\")\u001b[39;00m\n\u001b[0;32m    185\u001b[0m \u001b[38;5;66;03m# if not is_connected(H):\u001b[39;00m\n\u001b[0;32m    186\u001b[0m \u001b[38;5;66;03m#     raise XGIError(\"This method is not defined for disconnected hypergraphs.\")\u001b[39;00m\n\u001b[0;32m    188\u001b[0m \u001b[38;5;28mprint\u001b[39m(\u001b[38;5;124m\"\u001b[39m\u001b[38;5;124mParsing to line_graph...\u001b[39m\u001b[38;5;124m\"\u001b[39m)\n\u001b[1;32m--> 189\u001b[0m LG \u001b[38;5;241m=\u001b[39m \u001b[43mto_ig_line_graph\u001b[49m\u001b[43m(\u001b[49m\u001b[43mH\u001b[49m\u001b[43m)\u001b[49m\n\u001b[0;32m    190\u001b[0m \u001b[38;5;28mprint\u001b[39m(\u001b[38;5;124m\"\u001b[39m\u001b[38;5;124mCounting eigenvector_centrality...\u001b[39m\u001b[38;5;124m\"\u001b[39m)\n\u001b[0;32m    191\u001b[0m LGcent \u001b[38;5;241m=\u001b[39m LG\u001b[38;5;241m.\u001b[39meigenvector_centrality(scale \u001b[38;5;241m=\u001b[39m \u001b[38;5;28;01mFalse\u001b[39;00m)\n",
      "File \u001b[1;32md:\\Projects\\StudCamp v2\\Repos\\xgi\\xgi\\convert\\line_graph.py:132\u001b[0m, in \u001b[0;36mto_ig_line_graph\u001b[1;34m(H, s, weights)\u001b[0m\n\u001b[0;32m    129\u001b[0m e1_set, e2_set \u001b[38;5;241m=\u001b[39m e1[\u001b[38;5;241m1\u001b[39m], e2[\u001b[38;5;241m1\u001b[39m]\n\u001b[0;32m    130\u001b[0m intersection_size \u001b[38;5;241m=\u001b[39m \u001b[38;5;28mlen\u001b[39m(e1_set\u001b[38;5;241m.\u001b[39mintersection(e2_set))\n\u001b[1;32m--> 132\u001b[0m \u001b[38;5;28;01mif\u001b[39;00m intersection_size \u001b[38;5;241m>\u001b[39m\u001b[38;5;241m=\u001b[39m s:\n\u001b[0;32m    133\u001b[0m     \u001b[38;5;28;01mif\u001b[39;00m weights:\n\u001b[0;32m    134\u001b[0m         weight \u001b[38;5;241m=\u001b[39m intersection_size\n",
      "\u001b[1;31mKeyboardInterrupt\u001b[0m: "
     ]
    }
   ],
   "source": [
    "centralities = xgi.centrality.fast_line_vector_centrality(H_filtered)"
   ]
  }
 ],
 "metadata": {
  "kernelspec": {
   "display_name": "Python 3",
   "language": "python",
   "name": "python3"
  },
  "language_info": {
   "codemirror_mode": {
    "name": "ipython",
    "version": 3
   },
   "file_extension": ".py",
   "mimetype": "text/x-python",
   "name": "python",
   "nbconvert_exporter": "python",
   "pygments_lexer": "ipython3",
   "version": "3.12.5"
  }
 },
 "nbformat": 4,
 "nbformat_minor": 5
}

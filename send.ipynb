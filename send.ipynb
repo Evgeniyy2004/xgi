{
 "cells": [
  {
   "cell_type": "code",
   "execution_count": 2,
   "id": "72b28d07",
   "metadata": {},
   "outputs": [],
   "source": [
    "import pandas as pd\n",
    "import xgi\n",
    "from tqdm import tqdm\n",
    "import matplotlib.pyplot as plt"
   ]
  },
  {
   "cell_type": "markdown",
   "id": "43632b08",
   "metadata": {},
   "source": [
    "### Считывание с таблицы"
   ]
  },
  {
   "cell_type": "code",
   "execution_count": 2,
   "id": "e784560e",
   "metadata": {},
   "outputs": [],
   "source": [
    "authors2papers = pd.read_csv('edge.csv', names=['author', 'paper'])"
   ]
  },
  {
   "cell_type": "code",
   "execution_count": 3,
   "id": "44e033c1",
   "metadata": {},
   "outputs": [],
   "source": [
    "authors2papers = authors2papers[authors2papers['paper']!= 0]"
   ]
  },
  {
   "cell_type": "code",
   "execution_count": 4,
   "id": "75086cf0",
   "metadata": {},
   "outputs": [],
   "source": [
    "papers_ids = pd.unique(authors2papers['paper'])"
   ]
  },
  {
   "cell_type": "code",
   "execution_count": 5,
   "id": "44df5bad",
   "metadata": {},
   "outputs": [],
   "source": [
    "grouped_authors = authors2papers.groupby('paper')['author'].apply(list).to_list()"
   ]
  },
  {
   "cell_type": "code",
   "execution_count": 17,
   "id": "d0353257",
   "metadata": {},
   "outputs": [],
   "source": [
    "H = xgi.Hypergraph(grouped_authors)"
   ]
  },
  {
   "cell_type": "code",
   "execution_count": 18,
   "id": "be6b4ed9",
   "metadata": {},
   "outputs": [],
   "source": [
    "H_filtered = H.cleanup(\n",
    "    multiedges=False, singletons=False, isolates=False, relabel=True, in_place=False, connected=True\n",
    ")"
   ]
  },
  {
   "cell_type": "markdown",
   "id": "b072a3bb",
   "metadata": {},
   "source": [
    "### Считывание с огурчика"
   ]
  },
  {
   "cell_type": "code",
   "execution_count": 3,
   "id": "824722b9",
   "metadata": {},
   "outputs": [],
   "source": [
    "import pickle\n",
    "\n",
    "H_filtered = pickle.load(open(\"H_filtered.pickle\", \"rb\"))"
   ]
  },
  {
   "cell_type": "markdown",
   "id": "763fee67",
   "metadata": {},
   "source": [
    "### Всякое остальное важное нужное"
   ]
  },
  {
   "cell_type": "code",
   "execution_count": null,
   "id": "1c5c73dd",
   "metadata": {},
   "outputs": [
    {
     "name": "stdout",
     "output_type": "stream",
     "text": [
      "Checking connections...\n",
      "Parsing to line_graph...\n"
     ]
    }
   ],
   "source": [
    "centralities = xgi.centrality.fast_line_vector_centrality(H_filtered)"
   ]
  }
 ],
 "metadata": {
  "kernelspec": {
   "display_name": "Python 3",
   "language": "python",
   "name": "python3"
  },
  "language_info": {
   "codemirror_mode": {
    "name": "ipython",
    "version": 3
   },
   "file_extension": ".py",
   "mimetype": "text/x-python",
   "name": "python",
   "nbconvert_exporter": "python",
   "pygments_lexer": "ipython3",
   "version": "3.12.5"
  }
 },
 "nbformat": 4,
 "nbformat_minor": 5
}

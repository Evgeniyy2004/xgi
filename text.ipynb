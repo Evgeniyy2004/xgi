{
 "cells": [
  {
   "cell_type": "code",
   "execution_count": 1,
   "id": "8ce6bd58",
   "metadata": {},
   "outputs": [],
   "source": [
    "import xgi\n",
    "import igraph as ig\n",
    "import time\n",
    "import networkx as nx\n",
    "import matplotlib.pyplot as plt"
   ]
  },
  {
   "cell_type": "code",
   "execution_count": 17,
   "id": "64f44b5e",
   "metadata": {},
   "outputs": [],
   "source": [
    "from line_graph_cpp import compute_line_graph_edges\n",
    "from tqdm import tqdm\n",
    "\n",
    "def ultra_fast_line_vector_generator(H, s=1, weights=None):\n",
    "    if weights not in [None, \"absolute\", \"normalized\"]:\n",
    "        raise ValueError(\n",
    "            f\"{weights} is not a valid weights option. Choices are \"\n",
    "            \"None, 'absolute', and 'normalized'.\"\n",
    "        )\n",
    "\n",
    "    LG = ig.Graph(directed=False)\n",
    "    hyperedges = list(H._edge.items())\n",
    "    LG.add_vertices(len(hyperedges))\n",
    "    LG.vs[\"name\"] = [k for k, _ in hyperedges]\n",
    "    LG.vs[\"original_hyperedge\"] = [v for _, v in hyperedges]\n",
    "\n",
    "    # Преобразуем гиперрёбра в список множеств\n",
    "    hyperedge_sets = [set(e[1]) for e in hyperedges]\n",
    "\n",
    "    # Создаем прогресс-бар\n",
    "    total_pairs = len(hyperedges) * (len(hyperedges) - 1) // 2\n",
    "    progress_bar = tqdm(total=total_pairs, desc=\"Processing pairs\")\n",
    "\n",
    "    def update_progress(step, processed, total):\n",
    "        progress_bar.update(step)\n",
    "\n",
    "    # Вызываем C++ функцию\n",
    "    edges_with_weights = compute_line_graph_edges(\n",
    "        hyperedge_sets, s, weights if weights else \"None\", update_progress\n",
    "    )\n",
    "\n",
    "    # Закрываем прогресс-бар\n",
    "    progress_bar.close()\n",
    "\n",
    "    # Добавляем рёбра и веса\n",
    "    edges_pairs = [(e[0], e[1]) for e in edges_with_weights]\n",
    "    LG.add_edges(edges_pairs)\n",
    "    if weights:\n",
    "        LG.es[\"weight\"] = [e[2] for e in edges_with_weights]\n",
    "\n",
    "    return LG"
   ]
  },
  {
   "cell_type": "code",
   "execution_count": 18,
   "id": "0f947400",
   "metadata": {},
   "outputs": [],
   "source": [
    "H_enron = xgi.load_xgi_data(\"ndc-substances\")\n",
    "H_enron_cleaned = H_enron.cleanup(\n",
    "    multiedges=False, singletons=False, isolates=False, relabel=True, in_place=False\n",
    ")"
   ]
  },
  {
   "cell_type": "code",
   "execution_count": 19,
   "id": "f5ccd70d",
   "metadata": {},
   "outputs": [
    {
     "name": "stdout",
     "output_type": "stream",
     "text": [
      "Help on built-in function compute_line_graph_edges in module line_graph_cpp:\n",
      "\n",
      "compute_line_graph_edges(...) method of builtins.PyCapsule instance\n",
      "    compute_line_graph_edges(hyperedges: list[set[int]], s: int, weights: str, progress_callback: Callable) -> list[tuple[int, int, float]]\n",
      "\n",
      "    Compute line graph edges in C++\n",
      "\n"
     ]
    }
   ],
   "source": [
    "from line_graph_cpp import compute_line_graph_edges\n",
    "\n",
    "# Проверка сигнатуры\n",
    "help(compute_line_graph_edges)"
   ]
  },
  {
   "cell_type": "code",
   "execution_count": 20,
   "id": "554ae507",
   "metadata": {},
   "outputs": [
    {
     "name": "stderr",
     "output_type": "stream",
     "text": [
      "Processing pairs:   0%|          | 0/20933685 [00:00<?, ?it/s]"
     ]
    },
    {
     "name": "stderr",
     "output_type": "stream",
     "text": [
      "Processing pairs: 24290000it [00:05, 4273381.26it/s]                              \n"
     ]
    },
    {
     "name": "stdout",
     "output_type": "stream",
     "text": [
      "Время выполнения на c++: 6.664248 секунд\n",
      "Посчитанный linegraph на c++: [5.7906180384158486e-08, 5.79061803839531e-08, 1.2663303183219947e-07, 0.00047617013579704905, 0.10279805953419237]\n"
     ]
    }
   ],
   "source": [
    "#start_time = time.time()\n",
    "\n",
    "#cent_p = xgi.convert.to_ig_line_graph(H_enron_cleaned)\n",
    "\n",
    "middle_time = time.time()\n",
    "\n",
    "cent_cpp = ultra_fast_line_vector_generator(H_enron_cleaned)\n",
    "\n",
    "end_time = time.time()\n",
    "\n",
    "#print(f\"Время выполнения на python: {(middle_time-start_time):.6f} секунд\")\n",
    "#print(f\"Посчитанный linegraph на python: {cent_p.eigenvector_centrality()[:5]}\")\n",
    "print(f\"Время выполнения на c++: {(end_time-middle_time):.6f} секунд\")\n",
    "print(f\"Посчитанный linegraph на c++: {cent_cpp.eigenvector_centrality()[:5]}\")"
   ]
  },
  {
   "cell_type": "code",
   "execution_count": 21,
   "id": "66785fe4",
   "metadata": {},
   "outputs": [],
   "source": [
    "import pickle\n",
    "\n",
    "H_filtered = pickle.load(open(\"hypergraph_filtered.pkl\", \"rb\"))"
   ]
  },
  {
   "cell_type": "code",
   "execution_count": null,
   "id": "d47b3c86",
   "metadata": {},
   "outputs": [
    {
     "name": "stderr",
     "output_type": "stream",
     "text": [
      "Processing pairs:   2%|▏         | 2609620000/150881999115 [09:06<5:33:16, 7414866.96it/s] "
     ]
    }
   ],
   "source": [
    "ig = ultra_fast_line_vector_generator(H_filtered)"
   ]
  }
 ],
 "metadata": {
  "kernelspec": {
   "display_name": "Python 3",
   "language": "python",
   "name": "python3"
  },
  "language_info": {
   "codemirror_mode": {
    "name": "ipython",
    "version": 3
   },
   "file_extension": ".py",
   "mimetype": "text/x-python",
   "name": "python",
   "nbconvert_exporter": "python",
   "pygments_lexer": "ipython3",
   "version": "3.12.5"
  }
 },
 "nbformat": 4,
 "nbformat_minor": 5
}

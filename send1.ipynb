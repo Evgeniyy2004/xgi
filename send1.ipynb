{
 "cells": [
  {
   "cell_type": "code",
   "execution_count": 1,
   "id": "72b28d07",
   "metadata": {},
   "outputs": [],
   "source": [
    "import pandas as pd\n",
    "import xgi\n",
    "from tqdm import tqdm\n",
    "import matplotlib.pyplot as plt\n",
    "import numpy as np"
   ]
  },
  {
   "cell_type": "code",
   "execution_count": 67,
   "id": "fc0877d3",
   "metadata": {},
   "outputs": [],
   "source": [
    "import pickle"
   ]
  },
  {
   "cell_type": "markdown",
   "id": "43632b08",
   "metadata": {},
   "source": [
    "### Считывание с таблицы"
   ]
  },
  {
   "cell_type": "code",
   "execution_count": 56,
   "id": "e784560e",
   "metadata": {},
   "outputs": [],
   "source": [
    "authors2papers = pd.read_csv(r'D:\\dev\\repos\\conda_repo\\hypergraphs\\ogbn\\raw\\relations\\author___writes___paper\\edge.csv', names=['author', 'paper'])"
   ]
  },
  {
   "cell_type": "code",
   "execution_count": 57,
   "id": "c3d8c628",
   "metadata": {},
   "outputs": [
    {
     "data": {
      "text/plain": [
       "(7145660, 2)"
      ]
     },
     "execution_count": 57,
     "metadata": {},
     "output_type": "execute_result"
    }
   ],
   "source": [
    "authors2papers.shape"
   ]
  },
  {
   "cell_type": "code",
   "execution_count": 58,
   "id": "3bbaf5a3",
   "metadata": {},
   "outputs": [],
   "source": [
    "author_counts = authors2papers['paper'].value_counts()\n",
    "ban_list = author_counts[author_counts > 50].index.to_list()"
   ]
  },
  {
   "cell_type": "code",
   "execution_count": 59,
   "id": "208456ab",
   "metadata": {},
   "outputs": [
    {
     "data": {
      "text/plain": [
       "(736389,)"
      ]
     },
     "execution_count": 59,
     "metadata": {},
     "output_type": "execute_result"
    }
   ],
   "source": [
    "papers_ids = pd.unique(authors2papers['paper'])\n",
    "papers_ids.shape"
   ]
  },
  {
   "cell_type": "code",
   "execution_count": 60,
   "id": "ff654c02",
   "metadata": {},
   "outputs": [],
   "source": [
    "papers_ids = papers_ids[~np.isin(papers_ids, ban_list)]"
   ]
  },
  {
   "cell_type": "code",
   "execution_count": 61,
   "id": "d14fb2bf",
   "metadata": {},
   "outputs": [
    {
     "data": {
      "text/plain": [
       "(730921,)"
      ]
     },
     "execution_count": 61,
     "metadata": {},
     "output_type": "execute_result"
    }
   ],
   "source": [
    "papers_ids.shape"
   ]
  },
  {
   "cell_type": "code",
   "execution_count": 62,
   "id": "75086cf0",
   "metadata": {},
   "outputs": [],
   "source": [
    "authors2papers = authors2papers[authors2papers['paper'].isin(papers_ids)]"
   ]
  },
  {
   "cell_type": "code",
   "execution_count": 63,
   "id": "c11d09a4",
   "metadata": {},
   "outputs": [
    {
     "data": {
      "text/plain": [
       "(3549503, 2)"
      ]
     },
     "execution_count": 63,
     "metadata": {},
     "output_type": "execute_result"
    }
   ],
   "source": [
    "authors2papers.shape"
   ]
  },
  {
   "cell_type": "code",
   "execution_count": 64,
   "id": "44df5bad",
   "metadata": {},
   "outputs": [],
   "source": [
    "grouped_authors = authors2papers.groupby('paper')['author'].apply(list).to_list()"
   ]
  },
  {
   "cell_type": "code",
   "execution_count": 65,
   "id": "d0353257",
   "metadata": {},
   "outputs": [],
   "source": [
    "H = xgi.Hypergraph(grouped_authors)"
   ]
  },
  {
   "cell_type": "code",
   "execution_count": 66,
   "id": "be6b4ed9",
   "metadata": {},
   "outputs": [],
   "source": [
    "H_filtered = H.cleanup(\n",
    "    multiedges=False, singletons=False, isolates=False, relabel=True, in_place=False, connected=True\n",
    ")"
   ]
  },
  {
   "cell_type": "code",
   "execution_count": 68,
   "id": "a0d8a83e",
   "metadata": {},
   "outputs": [
    {
     "name": "stderr",
     "output_type": "stream",
     "text": [
      "C:\\Users\\matta\\AppData\\Local\\Temp\\ipykernel_5332\\1453104521.py:2: DeprecationWarning: Pickle, copy, and deepcopy support will be removed from itertools in Python 3.14.\n",
      "  pickle.dump(H, f, protocol=pickle.HIGHEST_PROTOCOL)\n"
     ]
    }
   ],
   "source": [
    "with open('hypergraph.pkl', 'wb') as f:\n",
    "    pickle.dump(H, f, protocol=pickle.HIGHEST_PROTOCOL)"
   ]
  },
  {
   "cell_type": "code",
   "execution_count": 69,
   "id": "2303d08a",
   "metadata": {},
   "outputs": [
    {
     "name": "stderr",
     "output_type": "stream",
     "text": [
      "C:\\Users\\matta\\AppData\\Local\\Temp\\ipykernel_5332\\4258755722.py:2: DeprecationWarning: Pickle, copy, and deepcopy support will be removed from itertools in Python 3.14.\n",
      "  pickle.dump(H, f, protocol=pickle.HIGHEST_PROTOCOL)\n"
     ]
    }
   ],
   "source": [
    "with open('hypergraph_filtered.pkl', 'wb') as f:\n",
    "    pickle.dump(H, f, protocol=pickle.HIGHEST_PROTOCOL)"
   ]
  },
  {
   "cell_type": "markdown",
   "id": "b072a3bb",
   "metadata": {},
   "source": [
    "### Считывание с огурчика"
   ]
  },
  {
   "cell_type": "code",
   "execution_count": 3,
   "id": "824722b9",
   "metadata": {},
   "outputs": [],
   "source": [
    "import pickle\n",
    "\n",
    "H_filtered = pickle.load(open(\"H_filtered.pickle\", \"rb\"))"
   ]
  },
  {
   "cell_type": "markdown",
   "id": "763fee67",
   "metadata": {},
   "source": [
    "### Всякое остальное важное нужное"
   ]
  },
  {
   "cell_type": "code",
   "execution_count": null,
   "id": "1c5c73dd",
   "metadata": {},
   "outputs": [],
   "source": [
    "centralities = xgi.centrality.fast_line_vector_centrality(H_filtered)"
   ]
  }
 ],
 "metadata": {
  "kernelspec": {
   "display_name": "conda_env1",
   "language": "python",
   "name": "python3"
  },
  "language_info": {
   "codemirror_mode": {
    "name": "ipython",
    "version": 3
   },
   "file_extension": ".py",
   "mimetype": "text/x-python",
   "name": "python",
   "nbconvert_exporter": "python",
   "pygments_lexer": "ipython3",
   "version": "3.12.4"
  }
 },
 "nbformat": 4,
 "nbformat_minor": 5
}
